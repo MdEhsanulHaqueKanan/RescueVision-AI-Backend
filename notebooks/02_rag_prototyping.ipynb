{
 "cells": [
  {
   "cell_type": "code",
   "execution_count": 3,
   "id": "d40d604c",
   "metadata": {},
   "outputs": [
    {
     "name": "stdout",
     "output_type": "stream",
     "text": [
      "--- All libraries imported successfully ---\n",
      "Knowledge base directory is set to: g:\\MdEhsanulHaqueKanan GitHub projects\\RescueVision\\rescue-vision-project\\data\\knowledge_base\n"
     ]
    }
   ],
   "source": [
    "# Cell 1: Imports and Path Definitions (Corrected for langchain-community)\n",
    "import os\n",
    "from langchain_community.document_loaders import PyPDFDirectoryLoader      # <-- UPDATED\n",
    "from langchain.text_splitter import RecursiveCharacterTextSplitter\n",
    "from langchain_community.embeddings import SentenceTransformerEmbeddings  # <-- UPDATED\n",
    "from langchain_community.vectorstores import Chroma                       # <-- UPDATED\n",
    "\n",
    "print(\"--- All libraries imported successfully ---\")\n",
    "\n",
    "# Define the path to the knowledge base directory\n",
    "KNOWLEDGE_BASE_DIR = \"../data/knowledge_base/\"\n",
    "\n",
    "# The closing parenthesis ')' was added at the end of this line\n",
    "print(f\"Knowledge base directory is set to: {os.path.abspath(KNOWLEDGE_BASE_DIR)}\")"
   ]
  },
  {
   "cell_type": "code",
   "execution_count": 4,
   "id": "f397cf53",
   "metadata": {},
   "outputs": [
    {
     "name": "stdout",
     "output_type": "stream",
     "text": [
      "Loading documents from the knowledge base...\n",
      "--- Successfully loaded 10 documents. ---\n",
      "\n",
      "--- Sample content from the first document: ---\n",
      "Policy\n",
      "304\n",
      "Sanibel Fire and Rescue District\n",
      "Fire Policy Manual\n",
      "Copyright Lexipol, LLC 2025/01/14, All Rights Reserved.\n",
      "Published with permission by Sanibel Fire and Rescue District***DRAFT*** Urban Search and Rescue (USAR) - 1\n",
      "Urban Search and Rescue (USAR)\n",
      "304.1   PURPOSE AND SCOPE\n",
      "The purpose of this policy is to describe the Federal Emergency Management Agency (FEMA) and\n",
      "Florida Urban Search and Rescue (USAR) Response Systems as resources for disaster response.\n",
      "304.2   POLICY\n",
      "It is the policy\n"
     ]
    }
   ],
   "source": [
    "# Cell 2: Load Documents from the Knowledge Base\n",
    "print(\"Loading documents from the knowledge base...\")\n",
    "\n",
    "# Initialize the loader\n",
    "loader = PyPDFDirectoryLoader(KNOWLEDGE_BASE_DIR)\n",
    "\n",
    "# Load the documents\n",
    "documents = loader.load()\n",
    "\n",
    "print(f\"--- Successfully loaded {len(documents)} documents. ---\")\n",
    "\n",
    "# Let's inspect the first document to see what we have\n",
    "print(\"\\n--- Sample content from the first document: ---\")\n",
    "print(documents[0].page_content[:500]) # Print the first 500 characters"
   ]
  },
  {
   "cell_type": "code",
   "execution_count": 5,
   "id": "100f1bdf",
   "metadata": {},
   "outputs": [
    {
     "name": "stdout",
     "output_type": "stream",
     "text": [
      "Splitting documents into smaller chunks...\n",
      "--- Successfully split 10 pages into 27 chunks. ---\n",
      "\n",
      "--- Sample content from the first chunk: ---\n",
      "Policy\n",
      "304\n",
      "Sanibel Fire and Rescue District\n",
      "Fire Policy Manual\n",
      "Copyright Lexipol, LLC 2025/01/14, All Rights Reserved.\n",
      "Published with permission by Sanibel Fire and Rescue District***DRAFT*** Urban Search and Rescue (USAR) - 1\n",
      "Urban Search and Rescue (USAR)\n",
      "304.1   PURPOSE AND SCOPE\n",
      "The purpose of this policy is to describe the Federal Emergency Management Agency (FEMA) and\n",
      "Florida Urban Search and Rescue (USAR) Response Systems as resources for disaster response.\n",
      "304.2   POLICY\n",
      "It is the policy of the Sanibel Fire and Rescue District to utilize the FEMA and Florida USAR\n",
      "resources in the event of an urban disaster, as appropriate.\n",
      "304.3   RESOURCES\n",
      "USAR is a multi-hazard discipline and may be used for a variety of disasters, including hurricanes,\n",
      "earthquakes, typhoons, storms, tornadoes, floods, dam failures, technological accidents, terrorist\n",
      "activities and hazardous material releases.\n",
      "USAR task forces have four areas of specialization:\n"
     ]
    }
   ],
   "source": [
    "# Cell 3: Chunk the Loaded Documents\n",
    "print(\"Splitting documents into smaller chunks...\")\n",
    "\n",
    "text_splitter = RecursiveCharacterTextSplitter(\n",
    "    chunk_size=1000,  # The max number of characters in a chunk\n",
    "    chunk_overlap=100   # The number of characters to overlap between chunks\n",
    ")\n",
    "\n",
    "chunks = text_splitter.split_documents(documents)\n",
    "\n",
    "print(f\"--- Successfully split {len(documents)} pages into {len(chunks)} chunks. ---\")\n",
    "\n",
    "# Let's inspect a chunk to see the result\n",
    "print(\"\\n--- Sample content from the first chunk: ---\")\n",
    "print(chunks[0].page_content)"
   ]
  },
  {
   "cell_type": "code",
   "execution_count": 6,
   "id": "07dfcac3",
   "metadata": {},
   "outputs": [
    {
     "name": "stdout",
     "output_type": "stream",
     "text": [
      "Initializing the embedding model...\n"
     ]
    },
    {
     "name": "stderr",
     "output_type": "stream",
     "text": [
      "C:\\Users\\2021\\AppData\\Local\\Temp\\ipykernel_3780\\1238680565.py:6: LangChainDeprecationWarning: The class `HuggingFaceEmbeddings` was deprecated in LangChain 0.2.2 and will be removed in 1.0. An updated version of the class exists in the :class:`~langchain-huggingface package and should be used instead. To use it run `pip install -U :class:`~langchain-huggingface` and import as `from :class:`~langchain_huggingface import HuggingFaceEmbeddings``.\n",
      "  embeddings = SentenceTransformerEmbeddings(model_name=\"all-MiniLM-L6-v2\")\n"
     ]
    },
    {
     "data": {
      "application/vnd.jupyter.widget-view+json": {
       "model_id": "4489795b3690478e9d1b226f568448db",
       "version_major": 2,
       "version_minor": 0
      },
      "text/plain": [
       "modules.json:   0%|          | 0.00/349 [00:00<?, ?B/s]"
      ]
     },
     "metadata": {},
     "output_type": "display_data"
    },
    {
     "name": "stderr",
     "output_type": "stream",
     "text": [
      "g:\\conda_envs\\ResCueVisionEnvironment\\lib\\site-packages\\huggingface_hub\\file_download.py:143: UserWarning: `huggingface_hub` cache-system uses symlinks by default to efficiently store duplicated files but your machine does not support them in C:\\Users\\2021\\.cache\\huggingface\\hub\\models--sentence-transformers--all-MiniLM-L6-v2. Caching files will still work but in a degraded version that might require more space on your disk. This warning can be disabled by setting the `HF_HUB_DISABLE_SYMLINKS_WARNING` environment variable. For more details, see https://huggingface.co/docs/huggingface_hub/how-to-cache#limitations.\n",
      "To support symlinks on Windows, you either need to activate Developer Mode or to run Python as an administrator. In order to activate developer mode, see this article: https://docs.microsoft.com/en-us/windows/apps/get-started/enable-your-device-for-development\n",
      "  warnings.warn(message)\n"
     ]
    },
    {
     "data": {
      "application/vnd.jupyter.widget-view+json": {
       "model_id": "db891a9e8a9b46b89c42845c1761f20e",
       "version_major": 2,
       "version_minor": 0
      },
      "text/plain": [
       "config_sentence_transformers.json:   0%|          | 0.00/116 [00:00<?, ?B/s]"
      ]
     },
     "metadata": {},
     "output_type": "display_data"
    },
    {
     "data": {
      "application/vnd.jupyter.widget-view+json": {
       "model_id": "a968acde70c64f69b1ab126a903e208e",
       "version_major": 2,
       "version_minor": 0
      },
      "text/plain": [
       "README.md: 0.00B [00:00, ?B/s]"
      ]
     },
     "metadata": {},
     "output_type": "display_data"
    },
    {
     "data": {
      "application/vnd.jupyter.widget-view+json": {
       "model_id": "8b3008cb57b649459267e80f1fd94376",
       "version_major": 2,
       "version_minor": 0
      },
      "text/plain": [
       "sentence_bert_config.json:   0%|          | 0.00/53.0 [00:00<?, ?B/s]"
      ]
     },
     "metadata": {},
     "output_type": "display_data"
    },
    {
     "data": {
      "application/vnd.jupyter.widget-view+json": {
       "model_id": "f8fd2d19c81442ff8d8da129549c5d60",
       "version_major": 2,
       "version_minor": 0
      },
      "text/plain": [
       "config.json:   0%|          | 0.00/612 [00:00<?, ?B/s]"
      ]
     },
     "metadata": {},
     "output_type": "display_data"
    },
    {
     "name": "stderr",
     "output_type": "stream",
     "text": [
      "Xet Storage is enabled for this repo, but the 'hf_xet' package is not installed. Falling back to regular HTTP download. For better performance, install the package with: `pip install huggingface_hub[hf_xet]` or `pip install hf_xet`\n"
     ]
    },
    {
     "data": {
      "application/vnd.jupyter.widget-view+json": {
       "model_id": "cf55492544ed478e809d28d91d799509",
       "version_major": 2,
       "version_minor": 0
      },
      "text/plain": [
       "model.safetensors:   0%|          | 0.00/90.9M [00:00<?, ?B/s]"
      ]
     },
     "metadata": {},
     "output_type": "display_data"
    },
    {
     "data": {
      "application/vnd.jupyter.widget-view+json": {
       "model_id": "62b8bb7ae2974ca0865274318dd9c296",
       "version_major": 2,
       "version_minor": 0
      },
      "text/plain": [
       "tokenizer_config.json:   0%|          | 0.00/350 [00:00<?, ?B/s]"
      ]
     },
     "metadata": {},
     "output_type": "display_data"
    },
    {
     "data": {
      "application/vnd.jupyter.widget-view+json": {
       "model_id": "bca344af445748868a30b38ef650ff0a",
       "version_major": 2,
       "version_minor": 0
      },
      "text/plain": [
       "vocab.txt: 0.00B [00:00, ?B/s]"
      ]
     },
     "metadata": {},
     "output_type": "display_data"
    },
    {
     "data": {
      "application/vnd.jupyter.widget-view+json": {
       "model_id": "84e75f4cc78f4918b3048eee5af43410",
       "version_major": 2,
       "version_minor": 0
      },
      "text/plain": [
       "tokenizer.json: 0.00B [00:00, ?B/s]"
      ]
     },
     "metadata": {},
     "output_type": "display_data"
    },
    {
     "data": {
      "application/vnd.jupyter.widget-view+json": {
       "model_id": "50fd6455d90846949df9dd9803808de7",
       "version_major": 2,
       "version_minor": 0
      },
      "text/plain": [
       "special_tokens_map.json:   0%|          | 0.00/112 [00:00<?, ?B/s]"
      ]
     },
     "metadata": {},
     "output_type": "display_data"
    },
    {
     "data": {
      "application/vnd.jupyter.widget-view+json": {
       "model_id": "2779475be5a44d1892d49096c04432a2",
       "version_major": 2,
       "version_minor": 0
      },
      "text/plain": [
       "config.json:   0%|          | 0.00/190 [00:00<?, ?B/s]"
      ]
     },
     "metadata": {},
     "output_type": "display_data"
    },
    {
     "name": "stdout",
     "output_type": "stream",
     "text": [
      "--- Embedding model initialized. ---\n",
      "Creating/loading the vector database at: g:\\MdEhsanulHaqueKanan GitHub projects\\RescueVision\\rescue-vision-project\\vector_store\n",
      "--- Successfully created and saved the vector database with 27 entries. ---\n"
     ]
    }
   ],
   "source": [
    "# Cell 4: Create Embeddings and Store in Vector Database\n",
    "print(\"Initializing the embedding model...\")\n",
    "\n",
    "# Use a standard, all-purpose embedding model\n",
    "# This model will be downloaded from Hugging Face the first time you run this\n",
    "embeddings = SentenceTransformerEmbeddings(model_name=\"all-MiniLM-L6-v2\")\n",
    "\n",
    "print(\"--- Embedding model initialized. ---\")\n",
    "\n",
    "# Define the path for the persistent vector database\n",
    "VECTOR_DB_PATH = \"../vector_store\"\n",
    "\n",
    "print(f\"Creating/loading the vector database at: {os.path.abspath(VECTOR_DB_PATH)}\")\n",
    "\n",
    "# Create the Chroma database from the chunks\n",
    "# This will process all chunks, create embeddings, and save them to disk\n",
    "vectordb = Chroma.from_documents(\n",
    "    documents=chunks,\n",
    "    embedding=embeddings,\n",
    "    persist_directory=VECTOR_DB_PATH\n",
    ")\n",
    "\n",
    "print(f\"--- Successfully created and saved the vector database with {vectordb._collection.count()} entries. ---\")"
   ]
  },
  {
   "cell_type": "code",
   "execution_count": 7,
   "id": "db94805c",
   "metadata": {},
   "outputs": [
    {
     "name": "stdout",
     "output_type": "stream",
     "text": [
      "--- Testing the retrieval functionality ---\n",
      "Query: 'What is the procedure for a swiftwater rescue?'\n"
     ]
    },
    {
     "name": "stderr",
     "output_type": "stream",
     "text": [
      "C:\\Users\\2021\\AppData\\Local\\Temp\\ipykernel_3780\\3216198359.py:10: LangChainDeprecationWarning: The class `Chroma` was deprecated in LangChain 0.2.9 and will be removed in 1.0. An updated version of the class exists in the :class:`~langchain-chroma package and should be used instead. To use it run `pip install -U :class:`~langchain-chroma` and import as `from :class:`~langchain_chroma import Chroma``.\n",
      "  db = Chroma(\n"
     ]
    },
    {
     "name": "stdout",
     "output_type": "stream",
     "text": [
      "\n",
      "--- Top 3 most relevant chunks found: ---\n",
      "\n",
      "--- Chunk 1 (Source: fema_sar_operations.pdf) ---\n",
      "4. Provides first aid and Cardiopulmonary\n",
      "Resuscitation (CPR)\n",
      "5. Provides:\n",
      "a. Safety of self and team members\n",
      "b. Basic medical care of self, team\n",
      "members, and survivors\n",
      "c. Simple decontamination of self and\n",
      "team members\n",
      "d. Basic ground support capability for\n",
      "helicopter operations\n",
      "6. Coordinates with ground vehicles,\n",
      "watercraft, and aircraft for support,\n",
      "transportation, and evacuation\n",
      "7. Operates in environments with and\n",
      "without infrastructure, including those\n",
      "affected by disasters and terrorism; with\n",
      "compromised access to roadways,\n",
      "utilities, and transportation; and with\n",
      "limited availability of shelter, food, and\n",
      "(Continued)\n",
      "Not Specified\n",
      "DESCRIPTION (Continued)\n",
      "water\n",
      "EDUCATION Not Specified Not Specified Not Specified Not Specified\n",
      "\n",
      "--- Chunk 2 (Source: fema_sar_logistics.pdf) ---\n",
      "activities and hazardous material releases.\n",
      "USAR task forces have four areas of specialization:\n",
      "(a) Searches - Finding victims who are trapped after a disaster\n",
      "(b) Rescues - Freeing victims, including safely digging victims out of collapsed concrete\n",
      "or metal\n",
      "(c) Technical - Applying specialized structural knowledge to help make rescues safe for\n",
      "the rescuers\n",
      "(d) Medical - Caring for victims before and after a rescue\n",
      "304.3.1   FEDERAL RESOURCES\n",
      "If a disaster warrants national USAR support, FEMA may deploy task forces within six hours of\n",
      "notification and can provide additional teams as necessary to support the Sanibel Fire and Rescue\n",
      "District’s efforts to locate victims and manage recovery operations.\n",
      "The following resources are generally available from the FEMA USAR Response System:\n",
      "• Air Search Team (fixed-wing)\n",
      "• Airborne Reconnaissance (fixed-wing)\n",
      "• Canine - Avalanche/Snow\n",
      "• Canine - Disaster Response\n",
      "• Canine - Land/Cadaver\n",
      "• Canine - Water\n",
      "• Canine - Wilderness\n",
      "\n",
      "--- Chunk 3 (Source: fema_sar_team_leader.pdf) ---\n",
      "Position Qualification for Mass Search and Rescue Operations\n",
      "Search and Rescue\n",
      "1.6 - SEPTEMBER 2024 LAND SEARCH AND RESCUE (SAR) TEAM LEADER 1 OF 3\n",
      "LAND SEARCH AND RESCUE (SAR) TEAM LEADER\n",
      "RESOURCE CATEGORY Search and Rescue\n",
      "RESOURCE KIND Personnel\n",
      "OVERALL FUNCTION The Land Search and Rescue (SAR) Team Leader provides general leadership, direct supervision, wellness, and safety of the team members\n",
      "COMPOSITION AND\n",
      "ORDERING SPECIFICATIONS\n",
      "1. This position can be ordered as a single resource or in conjunction with a NIMS typed team (Land Search and Rescue Team).\n",
      "2. Discuss logistics for deploying this position, such as working conditions, length of deployment, security, lodging, transportation, and meals, prior to\n",
      "deployment\n",
      "Each type of resource builds on the qualifications of the type below it. For example, Type 1 qualifications include the qualifications in Type 2, plus an increase in capability. Type 1 is\n",
      "the highest qualification level.\n",
      "COMPONENT TYPE 1 TYPE 2 NOTES\n"
     ]
    }
   ],
   "source": [
    "# Cell 5: Test the Vector Database with a Sample Query\n",
    "print(\"--- Testing the retrieval functionality ---\")\n",
    "\n",
    "# The query we want to ask our knowledge base\n",
    "query = \"What is the procedure for a swiftwater rescue?\"\n",
    "\n",
    "print(f\"Query: '{query}'\")\n",
    "\n",
    "# Load the persisted database from disk\n",
    "db = Chroma(\n",
    "    persist_directory=VECTOR_DB_PATH,\n",
    "    embedding_function=embeddings\n",
    ")\n",
    "\n",
    "# Perform a similarity search\n",
    "retrieved_docs = db.similarity_search(query, k=3) # k=3 means get the top 3 most relevant chunks\n",
    "\n",
    "print(\"\\n--- Top 3 most relevant chunks found: ---\")\n",
    "for i, doc in enumerate(retrieved_docs):\n",
    "    print(f\"\\n--- Chunk {i+1} (Source: {os.path.basename(doc.metadata.get('source', 'Unknown'))}) ---\")\n",
    "    print(doc.page_content)"
   ]
  },
  {
   "cell_type": "code",
   "execution_count": null,
   "id": "3b45c06d",
   "metadata": {},
   "outputs": [],
   "source": []
  },
  {
   "cell_type": "code",
   "execution_count": null,
   "id": "151700b7",
   "metadata": {},
   "outputs": [],
   "source": []
  },
  {
   "cell_type": "code",
   "execution_count": null,
   "id": "180c146e",
   "metadata": {},
   "outputs": [],
   "source": []
  },
  {
   "cell_type": "code",
   "execution_count": null,
   "id": "8d255397",
   "metadata": {},
   "outputs": [],
   "source": []
  },
  {
   "cell_type": "code",
   "execution_count": null,
   "id": "5654e70f",
   "metadata": {},
   "outputs": [],
   "source": []
  },
  {
   "cell_type": "code",
   "execution_count": null,
   "id": "7bfdff1d",
   "metadata": {},
   "outputs": [],
   "source": []
  },
  {
   "cell_type": "code",
   "execution_count": null,
   "id": "46e07bac",
   "metadata": {},
   "outputs": [],
   "source": []
  },
  {
   "cell_type": "code",
   "execution_count": null,
   "id": "1133d6a8",
   "metadata": {},
   "outputs": [],
   "source": []
  },
  {
   "cell_type": "code",
   "execution_count": null,
   "id": "e0662dd6",
   "metadata": {},
   "outputs": [],
   "source": []
  }
 ],
 "metadata": {
  "kernelspec": {
   "display_name": "ResCueVisionEnvironment",
   "language": "python",
   "name": "python3"
  },
  "language_info": {
   "codemirror_mode": {
    "name": "ipython",
    "version": 3
   },
   "file_extension": ".py",
   "mimetype": "text/x-python",
   "name": "python",
   "nbconvert_exporter": "python",
   "pygments_lexer": "ipython3",
   "version": "3.10.18"
  }
 },
 "nbformat": 4,
 "nbformat_minor": 5
}
